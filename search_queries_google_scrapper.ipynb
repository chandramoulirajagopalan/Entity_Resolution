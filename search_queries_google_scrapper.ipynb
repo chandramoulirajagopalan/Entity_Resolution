{
 "cells": [
  {
   "cell_type": "code",
   "execution_count": null,
   "metadata": {},
   "outputs": [],
   "source": [
    "import argparse\n",
    "import os\n",
    "import json\n",
    "\n",
    "parser = argparser.ArgumentParser()\n",
    "parser.add_argument('-n','--first-last', help = \"First Name and Last Name\")\n",
    "parser.add_argument('-l','--location', help = \"Location\")\n",
    "parser.add_argument('-o','--organisation',help = \"Organisation\")\n",
    "args = parser.parse_args()\n",
    "\n",
    "fil = open('search_words.txt','w')\n",
    "fil.write(args.first-last)\n",
    "fil.write(args.location)\n",
    "fil.write(args.organisation)\n",
    "fil.close()\n",
    "\n",
    "cmd = 'GoogleScraper -m http --keyword-file search_words.txt --num-workers 5 --search-engines \"duckduckgo,google,bing,yahoo\" --output-filename threaded-results.json -v debug'\n",
    "\n",
    "json_file = open('threaded-results.json')\n",
    "json_str = json_file.read()\n",
    "json_parsed = json.loads(json_str)\n",
    "\n",
    "f = open('csv_input.csv','w')\n",
    "csv_writer = csv.writer(f)\n",
    "count = 0\n",
    "for result in json_parsed['results']\n",
    "    if count == 0:\n",
    "        header = result.keys()\n",
    "        csvwriter.writerow(header)\n",
    "        count+= 1\n",
    "    csvwriter.writerow(result.values())\n",
    "f.close()"
   ]
  }
 ],
 "metadata": {
  "kernelspec": {
   "display_name": "Python 2",
   "language": "python",
   "name": "python2"
  },
  "language_info": {
   "codemirror_mode": {
    "name": "ipython",
    "version": 2
   },
   "file_extension": ".py",
   "mimetype": "text/x-python",
   "name": "python",
   "nbconvert_exporter": "python",
   "pygments_lexer": "ipython2",
   "version": "2.7.14"
  }
 },
 "nbformat": 4,
 "nbformat_minor": 2
}
