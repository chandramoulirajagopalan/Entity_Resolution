{
 "cells": [
  {
   "cell_type": "code",
   "execution_count": null,
   "metadata": {},
   "outputs": [],
   "source": [
    "import os\n",
    "import argparse\n",
    "from google.appengine.api import search\n",
    "\n",
    "parser = argparser.ArgumentParser()\n",
    "parser.add_argument('-n','--first-last', help = \"First Name and Last Name\")\n",
    "parser.add_argument('-l','--location', help = \"Location\")\n",
    "parser.add_argument('-o','--organisation',help = \"Organisation\")\n",
    "args = parser.parse_args()\n",
    "\n",
    "def query_offset(index, query_string):\n",
    "    offset = 0\n",
    "    query_string = 'Name:'+args.first-last+' AND Location:'+args.location+'AND Organisation:'+args.organisation\n",
    "    while True:\n",
    "        # Build the query using the current offset.\n",
    "        options = search.QueryOptions(offset=offset)\n",
    "        query = search.Query(query_string=query_string, options=options)\n",
    "\n",
    "        # Get the results\n",
    "        results = index.search(query)\n",
    "\n",
    "        number_retrieved = len(results.results)\n",
    "        if number_retrieved == 0:\n",
    "            break\n",
    "\n",
    "        offset += number_retrieved\n",
    "\n",
    "        documents+= [document for document in results]\n",
    "    return documents"
   ]
  }
 ],
 "metadata": {
  "kernelspec": {
   "display_name": "Python 2",
   "language": "python",
   "name": "python2"
  },
  "language_info": {
   "codemirror_mode": {
    "name": "ipython",
    "version": 2
   },
   "file_extension": ".py",
   "mimetype": "text/x-python",
   "name": "python",
   "nbconvert_exporter": "python",
   "pygments_lexer": "ipython2",
   "version": "2.7.14"
  }
 },
 "nbformat": 4,
 "nbformat_minor": 2
}
